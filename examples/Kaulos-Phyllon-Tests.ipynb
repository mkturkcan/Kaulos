{
 "cells": [
  {
   "cell_type": "code",
   "execution_count": 1,
   "metadata": {
    "collapsed": false
   },
   "outputs": [
    {
     "ename": "SyntaxError",
     "evalue": "invalid syntax (phyllon.py, line 246)",
     "output_type": "error",
     "traceback": [
      "\u001b[0;36m  File \u001b[0;32m\"c:\\users\\mkturkcan\\documents\\github\\phyllon\\phyllon\\phyllon.py\"\u001b[0;36m, line \u001b[0;32m246\u001b[0m\n\u001b[0;31m    if b['model'].accesses\u001b[0m\n\u001b[0m                          ^\u001b[0m\n\u001b[0;31mSyntaxError\u001b[0m\u001b[0;31m:\u001b[0m invalid syntax\n"
     ]
    }
   ],
   "source": [
    "from phyllon import *\n",
    "from kaulos import *\n",
    "\n",
    "L = LPU() # Phyllon defaults to the Kaulos backend\n",
    "\n",
    "# Create three neurons\n",
    "L.add([0, 2, 4], HodgkinHuxley())\n",
    "# Create three synapses\n",
    "L.add([1, 3, 5], AlphaSynapse())\n",
    "# Join the nodes together, using an edge list notation\n",
    "# (i.e. [0,1] implies a directed edge from node 0 to node 1)\n",
    "L.join([[0,1],[1,2],[2,3],[3,4],[4,5],[5,0]])\n",
    "# Create a current input for node 0 from t=0.20s to t=0.40s with an amplitude of 40mA.\n",
    "L_in_a = InIStep(0, 40., 0.20, 0.40)\n",
    "# Create inputs, similarly, for nodes 2 and 4.\n",
    "L_in_b = InIStep(2, 40., 0.40, 0.60)\n",
    "L_in_c = InIStep(4, 40., 0.60, 0.80)\n",
    "# Use the three inputs and simulate the circuit for a second, in 1e-4s time steps.\n",
    "L.sim(1., 1e-4, [C_in_a, C_in_b, C_in_c])"
   ]
  },
  {
   "cell_type": "code",
   "execution_count": null,
   "metadata": {
    "collapsed": true
   },
   "outputs": [],
   "source": []
  }
 ],
 "metadata": {
  "anaconda-cloud": {},
  "kernelspec": {
   "display_name": "Python [conda root]",
   "language": "python",
   "name": "conda-root-py"
  },
  "language_info": {
   "codemirror_mode": {
    "name": "ipython",
    "version": 2
   },
   "file_extension": ".py",
   "mimetype": "text/x-python",
   "name": "python",
   "nbconvert_exporter": "python",
   "pygments_lexer": "ipython2",
   "version": "2.7.12"
  },
  "latex_envs": {
   "LaTeX_envs_menu_present": true,
   "autocomplete": true,
   "bibliofile": "biblio.bib",
   "cite_by": "apalike",
   "current_citInitial": 1,
   "eqLabelWithNumbers": true,
   "eqNumInitial": 1,
   "hotkeys": {
    "equation": "Ctrl-E",
    "itemize": "Ctrl-I"
   },
   "labels_anchors": false,
   "latex_user_defs": false,
   "report_style_numbering": false,
   "user_envs_cfg": false
  },
  "toc": {
   "nav_menu": {},
   "number_sections": false,
   "sideBar": true,
   "skip_h1_title": false,
   "toc_cell": false,
   "toc_position": {},
   "toc_section_display": "block",
   "toc_window_display": false
  }
 },
 "nbformat": 4,
 "nbformat_minor": 2
}
