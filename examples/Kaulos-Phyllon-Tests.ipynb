{
 "cells": [
  {
   "cell_type": "code",
   "execution_count": 1,
   "metadata": {
    "collapsed": false
   },
   "outputs": [
    {
     "name": "stderr",
     "output_type": "stream",
     "text": [
      "Using Theano backend.\n",
      "Using cuDNN version 5105 on context None\n",
      "Mapped name None to device cuda: GeForce GTX 1080 (0000:01:00.0)\n"
     ]
    },
    {
     "name": "stdout",
     "output_type": "stream",
     "text": [
      "('uid4', {'attr_dict': {'model': <kaulos.kaulos_models.HodgkinHuxley object at 0x000000003DDE50B8>}})\n",
      "uid3\n",
      "{'attr_dict': {'model': <kaulos.kaulos_models.AlphaSynapse object at 0x000000003DDE5160>}}\n",
      "['g', 'V_reverse']\n",
      "['I']\n",
      "Dendrite generated...\n",
      "('uid5', {'attr_dict': {'model': <kaulos.kaulos_models.AlphaSynapse object at 0x000000003DDE5198>}})\n",
      "uid4\n",
      "{'attr_dict': {'model': <kaulos.kaulos_models.HodgkinHuxley object at 0x000000003DDE50B8>}}\n",
      "['V', 'spike']\n",
      "['spike']\n",
      "('uid2', {'attr_dict': {'model': <kaulos.kaulos_models.HodgkinHuxley object at 0x000000003DDE5048>}})\n",
      "uid1\n",
      "{'attr_dict': {'model': <kaulos.kaulos_models.AlphaSynapse object at 0x000000003DDE5128>}}\n",
      "['g', 'V_reverse']\n",
      "['I']\n",
      "Dendrite generated...\n",
      "('uid3', {'attr_dict': {'model': <kaulos.kaulos_models.AlphaSynapse object at 0x000000003DDE5160>}})\n",
      "uid2\n",
      "{'attr_dict': {'model': <kaulos.kaulos_models.HodgkinHuxley object at 0x000000003DDE5048>}}\n",
      "['V', 'spike']\n",
      "['spike']\n",
      "('uid0', {'attr_dict': {'model': <kaulos.kaulos_models.HodgkinHuxley object at 0x000000003DD4CF98>}})\n",
      "uid5\n",
      "{'attr_dict': {'model': <kaulos.kaulos_models.AlphaSynapse object at 0x000000003DDE5198>}}\n",
      "['g', 'V_reverse']\n",
      "['I']\n",
      "Dendrite generated...\n",
      "('uid1', {'attr_dict': {'model': <kaulos.kaulos_models.AlphaSynapse object at 0x000000003DDE5128>}})\n",
      "uid0\n",
      "{'attr_dict': {'model': <kaulos.kaulos_models.HodgkinHuxley object at 0x000000003DD4CF98>}}\n",
      "['V', 'spike']\n",
      "['spike']\n"
     ]
    }
   ],
   "source": [
    "from phyllon import *\n",
    "from kaulos import *\n",
    "\n",
    "L = LPU() # Phyllon defaults to the Kaulos backend\n",
    "\n",
    "# Create three neurons\n",
    "L.add([0, 2, 4], HodgkinHuxley)\n",
    "# Create three synapses\n",
    "L.add([1, 3, 5], AlphaSynapse)\n",
    "# Join the nodes together, using an edge list notation\n",
    "# (i.e. [0,1] implies a directed edge from node 0 to node 1)\n",
    "L.join([[0,1],[1,2],[2,3],[3,4],[4,5],[5,0]])\n",
    "# Create a current input for node 0 from t=0.20s to t=0.40s with an amplitude of 40mA.\n",
    "L_in_a = InIStep(0, 40., 0.20, 0.40)\n",
    "# Create inputs, similarly, for nodes 2 and 4.\n",
    "L_in_b = InIStep(2, 40., 0.40, 0.60)\n",
    "L_in_c = InIStep(4, 40., 0.60, 0.80)\n",
    "# Use the three inputs and simulate the circuit for a second, in 1e-4s time steps.\n",
    "L.sim(1., 1e-4, [L_in_a, L_in_b, L_in_c])"
   ]
  },
  {
   "cell_type": "code",
   "execution_count": 2,
   "metadata": {
    "collapsed": false
   },
   "outputs": [
    {
     "data": {
      "text/plain": [
       "[('uid6',\n",
       "  {'attr_dict': {'model': <kaulos.kaulos_models.AggregatorDendrite at 0x3dde5320>}}),\n",
       " ('uid7',\n",
       "  {'attr_dict': {'model': <kaulos.kaulos_models.AggregatorDendrite at 0x3dde5358>}}),\n",
       " ('uid4',\n",
       "  {'attr_dict': {'model': <kaulos.kaulos_models.HodgkinHuxley at 0x3dde50b8>}}),\n",
       " ('uid5',\n",
       "  {'attr_dict': {'model': <kaulos.kaulos_models.AlphaSynapse at 0x3dde5198>}}),\n",
       " ('uid2',\n",
       "  {'attr_dict': {'model': <kaulos.kaulos_models.HodgkinHuxley at 0x3dde5048>}}),\n",
       " ('uid3',\n",
       "  {'attr_dict': {'model': <kaulos.kaulos_models.AlphaSynapse at 0x3dde5160>}}),\n",
       " ('uid0',\n",
       "  {'attr_dict': {'model': <kaulos.kaulos_models.HodgkinHuxley at 0x3dd4cf98>}}),\n",
       " ('uid1',\n",
       "  {'attr_dict': {'model': <kaulos.kaulos_models.AlphaSynapse at 0x3dde5128>}}),\n",
       " ('uid8',\n",
       "  {'attr_dict': {'model': <kaulos.kaulos_models.AggregatorDendrite at 0x3dde53c8>}})]"
      ]
     },
     "execution_count": 2,
     "metadata": {},
     "output_type": "execute_result"
    }
   ],
   "source": [
    "list(L.G.nodes(data = True))"
   ]
  },
  {
   "cell_type": "code",
   "execution_count": null,
   "metadata": {
    "collapsed": true
   },
   "outputs": [],
   "source": []
  }
 ],
 "metadata": {
  "anaconda-cloud": {},
  "kernelspec": {
   "display_name": "Python [conda root]",
   "language": "python",
   "name": "conda-root-py"
  },
  "language_info": {
   "codemirror_mode": {
    "name": "ipython",
    "version": 2
   },
   "file_extension": ".py",
   "mimetype": "text/x-python",
   "name": "python",
   "nbconvert_exporter": "python",
   "pygments_lexer": "ipython2",
   "version": "2.7.12"
  },
  "latex_envs": {
   "LaTeX_envs_menu_present": true,
   "autocomplete": true,
   "bibliofile": "biblio.bib",
   "cite_by": "apalike",
   "current_citInitial": 1,
   "eqLabelWithNumbers": true,
   "eqNumInitial": 1,
   "hotkeys": {
    "equation": "Ctrl-E",
    "itemize": "Ctrl-I"
   },
   "labels_anchors": false,
   "latex_user_defs": false,
   "report_style_numbering": false,
   "user_envs_cfg": false
  },
  "toc": {
   "nav_menu": {},
   "number_sections": false,
   "sideBar": true,
   "skip_h1_title": false,
   "toc_cell": false,
   "toc_position": {},
   "toc_section_display": "block",
   "toc_window_display": false
  }
 },
 "nbformat": 4,
 "nbformat_minor": 2
}
